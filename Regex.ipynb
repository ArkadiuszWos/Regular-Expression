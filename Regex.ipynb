{
 "cells": [
  {
   "cell_type": "markdown",
   "metadata": {},
   "source": [
    "## Python Regex Excercise\n",
    "### created from https://regexone.com/problem/"
   ]
  },
  {
   "cell_type": "code",
   "execution_count": 1,
   "metadata": {
    "collapsed": true
   },
   "outputs": [],
   "source": [
    "import re"
   ]
  },
  {
   "cell_type": "markdown",
   "metadata": {},
   "source": [
    "#### Problem 1:  Matching a decimal numbers"
   ]
  },
  {
   "cell_type": "code",
   "execution_count": 134,
   "metadata": {
    "collapsed": false
   },
   "outputs": [],
   "source": [
    "#Testing matches:\n",
    "match_1 = '3.14529'\n",
    "match_2 = '-255.34'\n",
    "match_3 = '128'\n",
    "match_4 = '1.9e10'\n",
    "match_5 = '123,340.00'\n",
    "skip_1 = '720p'"
   ]
  },
  {
   "cell_type": "code",
   "execution_count": 164,
   "metadata": {
    "collapsed": true
   },
   "outputs": [],
   "source": [
    "def match_decimal(string):\n",
    "    pattern = re.compile(r'^-?\\d+(,\\d+)*(\\.\\d+(e\\d+)?)?$')\n",
    "    \n",
    "    #PATER EXPLANATION\n",
    "    #^-? (take '-' in match_2)\n",
    "    #\\d+ (take all number eg. for match_3)\n",
    "    #(,\\d+)* (group take thousand separator with numbers)\n",
    "    #(\\.\\d+(e\\d+)?)?$ (group to take all after thousand separator) inside this group:\n",
    "        #\\.\\d+ (take all nums after dot)\n",
    "        #(e\\d+)? (take all after 'e' if occurs)\n",
    "        #?$ (to avoid letters at the end)\n",
    "    \n",
    "    result = re.search(pattern, string)\n",
    "    print ( 'result for \\'{0}\\' is : {1} '.format(string,bool(result)))\n",
    "    "
   ]
  },
  {
   "cell_type": "code",
   "execution_count": 165,
   "metadata": {
    "collapsed": false
   },
   "outputs": [
    {
     "name": "stdout",
     "output_type": "stream",
     "text": [
      "result for 'img0912.jpg' is : False \n",
      "result for 'updated_img0912.png' is : False \n",
      "result for 'favicon.gif' is : False \n",
      "result for '1 416 555 9292' is : False \n",
      "result for '202 555 4567' is : False \n",
      "result for '.bash_profile' is : False \n"
     ]
    }
   ],
   "source": [
    "match_decimal(match_1)\n",
    "match_decimal(match_2)\n",
    "match_decimal(match_3)\n",
    "match_decimal(match_4)\n",
    "match_decimal(match_5)\n",
    "match_decimal(skip_1)"
   ]
  },
  {
   "cell_type": "markdown",
   "metadata": {},
   "source": [
    "#### Problem 2: Matching phone numbers"
   ]
  },
  {
   "cell_type": "code",
   "execution_count": 152,
   "metadata": {
    "collapsed": true
   },
   "outputs": [],
   "source": [
    "#Testing matches:\n",
    "match_1 = '415-555-1234'\n",
    "match_2 = '(416)555-3456'\n",
    "match_3 = '4035555678'\n",
    "match_4 = '1 416 555 9292'\n",
    "match_5 = '202 555 4567'"
   ]
  },
  {
   "cell_type": "code",
   "execution_count": 159,
   "metadata": {
    "collapsed": true
   },
   "outputs": [],
   "source": [
    "def match_phone(string):\n",
    "    pattern = re.compile(r'1?[\\s-]?\\(?(\\d{3})\\)?[\\s-]?(\\d{3})[\\s-]?(\\d{4})')\n",
    "    \n",
    "    #PATER EXPLANATION\n",
    "    #1? (skip country code for USA)\n",
    "    # [\\s-]?(skip any white space if occurs)\n",
    "    #\\(? (skip enter parenthesis if occurs)\n",
    "    #(\\d{3}) (take grup of 3 digit)\n",
    "    #\\)? (skip end parenthesis if occurs)\n",
    "    # [\\s-]?(skip any white space if occurs)\n",
    "    #(\\d{3}) (take grup of 3 digit)\n",
    "    # [\\s-]?(skip any white space if occurs)\n",
    "    #(\\d{4}) (take grup of 4 digit)\n",
    "    \n",
    "    result = re.search(pattern, string)\n",
    "    print ( 'result for \\'{0}\\' is :{1} '.format(string,result.groups()))\n",
    "    "
   ]
  },
  {
   "cell_type": "code",
   "execution_count": 160,
   "metadata": {
    "collapsed": false,
    "scrolled": true
   },
   "outputs": [
    {
     "name": "stdout",
     "output_type": "stream",
     "text": [
      "result for '415-555-1234' is :('415', '555', '1234') \n",
      "result for '(416)555-3456' is :('416', '555', '3456') \n",
      "result for '4035555678' is :('403', '555', '5678') \n",
      "result for '1 416 555 9292' is :('416', '555', '9292') \n",
      "result for '202 555 4567' is :('202', '555', '4567') \n"
     ]
    }
   ],
   "source": [
    "match_phone(match_1)\n",
    "match_phone(match_2)\n",
    "match_phone(match_3)\n",
    "match_phone(match_4)\n",
    "match_phone(match_5)"
   ]
  },
  {
   "cell_type": "markdown",
   "metadata": {},
   "source": [
    "#### Problem 3: Matching emails"
   ]
  },
  {
   "cell_type": "code",
   "execution_count": 170,
   "metadata": {
    "collapsed": true
   },
   "outputs": [],
   "source": [
    "#Testing matches:\n",
    "match_1 = 'tom@hogwarts.com'\n",
    "match_2 = 'tom.riddle@hogwarts.com'\n",
    "match_3 = 'tom.riddle+regexone@hogwarts.com8'\n",
    "match_4 = 'tom@hogwarts.eu.com'\n"
   ]
  },
  {
   "cell_type": "code",
   "execution_count": 177,
   "metadata": {
    "collapsed": true
   },
   "outputs": [],
   "source": [
    "def match_email(string):\n",
    "    pattern = re.compile(r'^([\\w\\.]*)[\\+]?(\\w+)?[@](.+)')\n",
    "    \n",
    "    #PATER EXPLANATION\n",
    "    #^([\\w\\.]*) (take group all begin word with dot and word after dot)\n",
    "    #[\\+]? (skip plus sign)\n",
    "    #(\\w+)? (take group of all word after plus sign if occurs)\n",
    "    #[@] (skip @ sign)\n",
    "    #(.+) (take group all after @ sign)\n",
    "    \n",
    "    result = re.search(pattern, string)\n",
    "    print ( 'result for \\'{0}\\' is :{1} '.format(string,result.groups()))\n",
    "    "
   ]
  },
  {
   "cell_type": "code",
   "execution_count": 178,
   "metadata": {
    "collapsed": false
   },
   "outputs": [
    {
     "name": "stdout",
     "output_type": "stream",
     "text": [
      "result for 'tom@hogwarts.com' is :('tom', None, 'hogwarts.com') \n",
      "result for 'tom.riddle@hogwarts.com' is :('tom.riddle', None, 'hogwarts.com') \n",
      "result for 'tom.riddle+regexone@hogwarts.com8' is :('tom.riddle', 'regexone', 'hogwarts.com8') \n",
      "result for 'tom@hogwarts.eu.com' is :('tom', None, 'hogwarts.eu.com') \n"
     ]
    }
   ],
   "source": [
    "match_email(match_1)\n",
    "match_email(match_2)\n",
    "match_email(match_3)\n",
    "match_email(match_4)"
   ]
  },
  {
   "cell_type": "markdown",
   "metadata": {},
   "source": [
    "#### Problem 4: Matching HTML"
   ]
  },
  {
   "cell_type": "code",
   "execution_count": 181,
   "metadata": {
    "collapsed": true
   },
   "outputs": [],
   "source": [
    "#Testing matches:\n",
    "match_1 = r\"<a>This is a link</a>\"\n",
    "match_2 = r\"<a href='https://regexone.com'>Link</a>\"\n",
    "match_3 = r\"<div class='test_style'>Test</div>\"\n",
    "match_4 = r\"<div>Hello <span>world</span></div>\""
   ]
  },
  {
   "cell_type": "code",
   "execution_count": 196,
   "metadata": {
    "collapsed": true
   },
   "outputs": [],
   "source": [
    "def match_html(string):\n",
    "    pattern = re.compile(r\">([\\w\\s]*)<\")\n",
    "    \n",
    "    #PATER EXPLANATION\n",
    "    #<(\\w+) (take group of tag content)\n",
    "    \n",
    "    result = re.search(pattern, string)\n",
    "    print ( 'result for \\'{0}\\' is :{1} '.format(string,result.groups()))"
   ]
  },
  {
   "cell_type": "code",
   "execution_count": 197,
   "metadata": {
    "collapsed": false
   },
   "outputs": [
    {
     "name": "stdout",
     "output_type": "stream",
     "text": [
      "result for '<a>This is a link</a>' is :('This is a link',) \n",
      "result for '<a href='https://regexone.com'>Link</a>' is :('Link',) \n",
      "result for '<div class='test_style'>Test</div>' is :('Test',) \n",
      "result for '<div>Hello <span>world</span></div>' is :('Hello ',) \n"
     ]
    }
   ],
   "source": [
    "match_html(match_1)\n",
    "match_html(match_2)\n",
    "match_html(match_3)\n",
    "match_html(match_4)"
   ]
  },
  {
   "cell_type": "markdown",
   "metadata": {},
   "source": [
    "#### Problem 5: Matching specific filename"
   ]
  },
  {
   "cell_type": "code",
   "execution_count": 161,
   "metadata": {
    "collapsed": true
   },
   "outputs": [],
   "source": [
    "#Testing matches:\n",
    "match_1 = 'img0912.jpg'\n",
    "match_2 = 'updated_img0912.png'\n",
    "match_3 = 'favicon.gif'\n",
    "skip_1 = '.bash_profile'\n",
    "skip_2 = 'workspace.doc'\n",
    "skip_3 = 'img0912.jpg.tmp'\n",
    "skip_4 = 'access.lock'"
   ]
  },
  {
   "cell_type": "code",
   "execution_count": 166,
   "metadata": {
    "collapsed": true
   },
   "outputs": [],
   "source": [
    "def match_file_name(string):\n",
    "    pattern = re.compile(r'(\\w+)\\.(jpg|png|gif)$')\n",
    "    \n",
    "    #PATER EXPLANATION\n",
    "    #(\\w+) (take group any word and unicode charcter)\n",
    "    #\\. (skip dot charcter)\n",
    "    #(jpg|png|gif)$ (take group of logical or for jpg, png or gif at the and of string)\n",
    "    \n",
    "    result = re.search(pattern, string)\n",
    "    print ( 'result for \\'{0}\\' is : {1} '.format(string,bool(result)))\n",
    "    "
   ]
  },
  {
   "cell_type": "code",
   "execution_count": 167,
   "metadata": {
    "collapsed": false
   },
   "outputs": [
    {
     "name": "stdout",
     "output_type": "stream",
     "text": [
      "result for 'img0912.jpg' is : True \n",
      "result for 'updated_img0912.png' is : True \n",
      "result for 'favicon.gif' is : True \n",
      "result for '.bash_profile' is : False \n",
      "result for 'workspace.doc' is : False \n",
      "result for 'img0912.jpg.tmp' is : False \n",
      "result for 'access.lock' is : False \n"
     ]
    }
   ],
   "source": [
    "match_file_name(match_1)\n",
    "match_file_name(match_2)\n",
    "match_file_name(match_3)\n",
    "match_file_name(skip_1)\n",
    "match_file_name(skip_2)\n",
    "match_file_name(skip_3)\n",
    "match_file_name(skip_4)"
   ]
  },
  {
   "cell_type": "markdown",
   "metadata": {},
   "source": [
    "#### Problem 6: Trimming whitespace from start and end of line"
   ]
  },
  {
   "cell_type": "code",
   "execution_count": 246,
   "metadata": {
    "collapsed": true
   },
   "outputs": [],
   "source": [
    "#Testing matches:\n",
    "match_1 = '\t\t\tThe quick brown fox...'\n",
    "match_2 = '\t   jumps over the lazy dog.'"
   ]
  },
  {
   "cell_type": "code",
   "execution_count": 251,
   "metadata": {
    "collapsed": true
   },
   "outputs": [],
   "source": [
    "def match_whitespace(string):\n",
    "    pattern = re.compile(r'^\\s*(.*)\\s*$')\n",
    "    \n",
    "    #PATER EXPLANATION\n",
    "    #^\\s* (skip whitespace at the beging)\n",
    "    #(.*) (take group of any excpet new line)\n",
    "    #\\s*$ (skip whitspace at the end)\n",
    "    \n",
    "    result = re.search(pattern, string)\n",
    "    print ( 'result for \\'{0}\\' is :{1} '.format(string,result.groups()))"
   ]
  },
  {
   "cell_type": "code",
   "execution_count": 252,
   "metadata": {
    "collapsed": false
   },
   "outputs": [
    {
     "name": "stdout",
     "output_type": "stream",
     "text": [
      "result for '\t\t\tThe quick brown fox...' is :('The quick brown fox...',) \n",
      "result for '\t   jumps over the lazy dog.' is :('jumps over the lazy dog.',) \n"
     ]
    }
   ],
   "source": [
    "match_whitespace(match_1)\n",
    "match_whitespace(match_2)"
   ]
  },
  {
   "cell_type": "markdown",
   "metadata": {},
   "source": [
    "#### Problem 7: Extracting information from a log file"
   ]
  },
  {
   "cell_type": "code",
   "execution_count": 253,
   "metadata": {
    "collapsed": true
   },
   "outputs": [],
   "source": [
    "#Testing matches:\n",
    "match_1 = 'E/( 1553):   at widget.List.makeView(ListView.java:1727)'\n",
    "match_2 = 'E/( 1553):   at widget.List.fillDown(ListView.java:652)'\n",
    "match_3 = 'E/( 1553):   at widget.List.fillFrom(ListView.java:709)'\n",
    "skip_1 = 'W/dalvikvm( 1553): threadid=1: uncaught exception'\n",
    "skip_2 = 'E/( 1553): FATAL EXCEPTION: main'\n",
    "skip_3 = 'E/( 1553): java.lang.StringIndexOutOfBoundsException'"
   ]
  },
  {
   "cell_type": "code",
   "execution_count": 270,
   "metadata": {
    "collapsed": false
   },
   "outputs": [],
   "source": [
    "def match_from_log(string):\n",
    "    pattern = re.compile(r'(\\w+)\\(([\\w\\.]+):(\\d+)\\)')\n",
    "    \n",
    "    #PATER EXPLANATION\n",
    "    #(\\w+) (take group of file name)\n",
    "    #\\( (skip start parenthesis)\n",
    "    #([\\w\\.]+) (take group of method name)\n",
    "    #: (skip : mark)\n",
    "    #(\\d+) (take group of line number)\n",
    "    # \\) (skip end parenthesis)\n",
    "    \n",
    "    result = re.search(pattern, string)\n",
    "    if result:\n",
    "        print ( 'result for \\'{0}\\' is : {1} '.format(string,result.groups()))\n",
    "    else:\n",
    "        print ('result for \\'{0}\\' is : {1} '.format(string,result))"
   ]
  },
  {
   "cell_type": "code",
   "execution_count": 271,
   "metadata": {
    "collapsed": false
   },
   "outputs": [
    {
     "name": "stdout",
     "output_type": "stream",
     "text": [
      "result for 'E/( 1553):   at widget.List.makeView(ListView.java:1727)' is : ('makeView', 'ListView.java', '1727') \n",
      "result for 'E/( 1553):   at widget.List.fillDown(ListView.java:652)' is : ('fillDown', 'ListView.java', '652') \n",
      "result for 'E/( 1553):   at widget.List.fillFrom(ListView.java:709)' is : ('fillFrom', 'ListView.java', '709') \n",
      "result for 'W/dalvikvm( 1553): threadid=1: uncaught exception' is : None \n",
      "result for 'E/( 1553): FATAL EXCEPTION: main' is : None \n",
      "result for 'E/( 1553): java.lang.StringIndexOutOfBoundsException' is : None \n"
     ]
    }
   ],
   "source": [
    "match_from_log(match_1)\n",
    "match_from_log(match_2)\n",
    "match_from_log(match_3)\n",
    "match_from_log(skip_1)\n",
    "match_from_log(skip_2)\n",
    "match_from_log(skip_3)"
   ]
  },
  {
   "cell_type": "markdown",
   "metadata": {},
   "source": [
    "#### Problem 8: Parsing and extracting data from a URL"
   ]
  },
  {
   "cell_type": "code",
   "execution_count": 292,
   "metadata": {
    "collapsed": true
   },
   "outputs": [],
   "source": [
    "#Testing matches:\n",
    "match_1 = 'ftp://file_server.com:21/top_secret/life_changing_plans.pdf'\n",
    "match_2 = 'https://regexone.com/lesson/introduction#section'\n",
    "match_3 = 'file://localhost:4040/zip_file'\n",
    "match_4 = 'https://s3cur3-server.com:9999/'\n",
    "match_5 = 'market://search/angry%20birds'"
   ]
  },
  {
   "cell_type": "code",
   "execution_count": 299,
   "metadata": {
    "collapsed": true
   },
   "outputs": [],
   "source": [
    "def match_URL(string):\n",
    "    pattern = re.compile(r'(\\w+)://([\\w\\-\\.]+)(:(\\d+))?')\n",
    "    \n",
    "    #PATER EXPLANATION\n",
    "    #(\\w+):// (take group of protocols\n",
    "    #([\\w\\-\\.]+) (take group of host)\n",
    "    #(:(\\d+))? (take group of protocol is occurs)\n",
    "\n",
    "    \n",
    "    result = re.search(pattern, string)\n",
    "    print ( 'result for \\'{0}\\' is :{1} '.format(string,result.groups()))"
   ]
  },
  {
   "cell_type": "code",
   "execution_count": 300,
   "metadata": {
    "collapsed": false
   },
   "outputs": [
    {
     "name": "stdout",
     "output_type": "stream",
     "text": [
      "result for 'ftp://file_server.com:21/top_secret/life_changing_plans.pdf' is :('ftp', 'file_server.com', ':21', '21') \n",
      "result for 'https://regexone.com/lesson/introduction#section' is :('https', 'regexone.com', None, None) \n",
      "result for 'file://localhost:4040/zip_file' is :('file', 'localhost', ':4040', '4040') \n",
      "result for 'https://s3cur3-server.com:9999/' is :('https', 's3cur3-server.com', ':9999', '9999') \n",
      "result for 'market://search/angry%20birds' is :('market', 'search', None, None) \n"
     ]
    }
   ],
   "source": [
    "match_URL(match_1)\n",
    "match_URL(match_2)\n",
    "match_URL(match_3)\n",
    "match_URL(match_4)\n",
    "match_URL(match_5)"
   ]
  },
  {
   "cell_type": "code",
   "execution_count": null,
   "metadata": {
    "collapsed": true
   },
   "outputs": [],
   "source": []
  }
 ],
 "metadata": {
  "anaconda-cloud": {},
  "kernelspec": {
   "display_name": "Python [Root]",
   "language": "python",
   "name": "Python [Root]"
  },
  "language_info": {
   "codemirror_mode": {
    "name": "ipython",
    "version": 3
   },
   "file_extension": ".py",
   "mimetype": "text/x-python",
   "name": "python",
   "nbconvert_exporter": "python",
   "pygments_lexer": "ipython3",
   "version": "3.5.2"
  }
 },
 "nbformat": 4,
 "nbformat_minor": 2
}
